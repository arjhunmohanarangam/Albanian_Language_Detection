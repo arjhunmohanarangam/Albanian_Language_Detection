{
 "cells": [
  {
   "cell_type": "code",
   "execution_count": 1,
   "metadata": {},
   "outputs": [],
   "source": [
    "import pandas as pd\n",
    "import re\n",
    "import string\n",
    "from sklearn.model_selection import train_test_split\n",
    "from sklearn import feature_extraction\n",
    "from sklearn import linear_model\n",
    "from sklearn import pipeline\n",
    "from sklearn import metrics\n",
    "import pickle"
   ]
  },
  {
   "cell_type": "code",
   "execution_count": 3,
   "metadata": {},
   "outputs": [],
   "source": [
    "df = pd.read_csv('sqi.txt', sep=\"\\t\", header=None, names=[\"English\", \"Albanian\", \"cite\"])"
   ]
  },
  {
   "cell_type": "code",
   "execution_count": 4,
   "metadata": {},
   "outputs": [
    {
     "data": {
      "text/html": [
       "<div>\n",
       "<style scoped>\n",
       "    .dataframe tbody tr th:only-of-type {\n",
       "        vertical-align: middle;\n",
       "    }\n",
       "\n",
       "    .dataframe tbody tr th {\n",
       "        vertical-align: top;\n",
       "    }\n",
       "\n",
       "    .dataframe thead th {\n",
       "        text-align: right;\n",
       "    }\n",
       "</style>\n",
       "<table border=\"1\" class=\"dataframe\">\n",
       "  <thead>\n",
       "    <tr style=\"text-align: right;\">\n",
       "      <th></th>\n",
       "      <th>English</th>\n",
       "      <th>Albanian</th>\n",
       "      <th>cite</th>\n",
       "    </tr>\n",
       "  </thead>\n",
       "  <tbody>\n",
       "    <tr>\n",
       "      <th>0</th>\n",
       "      <td>Smile.</td>\n",
       "      <td>Buzëqesh.</td>\n",
       "      <td>CC-BY 2.0 (France) Attribution: tatoeba.org #2...</td>\n",
       "    </tr>\n",
       "    <tr>\n",
       "      <th>1</th>\n",
       "      <td>He ran.</td>\n",
       "      <td>Ai vrapo.</td>\n",
       "      <td>CC-BY 2.0 (France) Attribution: tatoeba.org #6...</td>\n",
       "    </tr>\n",
       "    <tr>\n",
       "      <th>2</th>\n",
       "      <td>Hug me.</td>\n",
       "      <td>Më përqafo.</td>\n",
       "      <td>CC-BY 2.0 (France) Attribution: tatoeba.org #1...</td>\n",
       "    </tr>\n",
       "    <tr>\n",
       "      <th>3</th>\n",
       "      <td>I know.</td>\n",
       "      <td>E di.</td>\n",
       "      <td>CC-BY 2.0 (France) Attribution: tatoeba.org #3...</td>\n",
       "    </tr>\n",
       "    <tr>\n",
       "      <th>4</th>\n",
       "      <td>I lost.</td>\n",
       "      <td>Humba.</td>\n",
       "      <td>CC-BY 2.0 (France) Attribution: tatoeba.org #1...</td>\n",
       "    </tr>\n",
       "    <tr>\n",
       "      <th>...</th>\n",
       "      <td>...</td>\n",
       "      <td>...</td>\n",
       "      <td>...</td>\n",
       "    </tr>\n",
       "    <tr>\n",
       "      <th>445</th>\n",
       "      <td>Some of the students were from Asia and the ot...</td>\n",
       "      <td>Disa nga studentat ishin nga Azia dhe te tjere...</td>\n",
       "      <td>CC-BY 2.0 (France) Attribution: tatoeba.org #2...</td>\n",
       "    </tr>\n",
       "    <tr>\n",
       "      <th>446</th>\n",
       "      <td>You were right about several things. However, ...</td>\n",
       "      <td>Kishe të drejtë për shumë gjëra. Megjithatë bë...</td>\n",
       "      <td>CC-BY 2.0 (France) Attribution: tatoeba.org #3...</td>\n",
       "    </tr>\n",
       "    <tr>\n",
       "      <th>447</th>\n",
       "      <td>Tom certainly hadn't done anything that deserv...</td>\n",
       "      <td>Si duket, Tomi ishte vonë sepse kishte trafik ...</td>\n",
       "      <td>CC-BY 2.0 (France) Attribution: tatoeba.org #1...</td>\n",
       "    </tr>\n",
       "    <tr>\n",
       "      <th>448</th>\n",
       "      <td>Good friends are like stars. You don't always ...</td>\n",
       "      <td>Miqt e mirë janë si yjet. Jo gjithmonë i sheh ...</td>\n",
       "      <td>CC-BY 2.0 (France) Attribution: tatoeba.org #1...</td>\n",
       "    </tr>\n",
       "    <tr>\n",
       "      <th>449</th>\n",
       "      <td>Mary is really great. She cooked a wonderful d...</td>\n",
       "      <td>Maria është e shkëlqyeshme. Ajo gatoi një dark...</td>\n",
       "      <td>CC-BY 2.0 (France) Attribution: tatoeba.org #6...</td>\n",
       "    </tr>\n",
       "  </tbody>\n",
       "</table>\n",
       "<p>450 rows × 3 columns</p>\n",
       "</div>"
      ],
      "text/plain": [
       "                                               English  \\\n",
       "0                                               Smile.   \n",
       "1                                              He ran.   \n",
       "2                                              Hug me.   \n",
       "3                                              I know.   \n",
       "4                                              I lost.   \n",
       "..                                                 ...   \n",
       "445  Some of the students were from Asia and the ot...   \n",
       "446  You were right about several things. However, ...   \n",
       "447  Tom certainly hadn't done anything that deserv...   \n",
       "448  Good friends are like stars. You don't always ...   \n",
       "449  Mary is really great. She cooked a wonderful d...   \n",
       "\n",
       "                                              Albanian  \\\n",
       "0                                            Buzëqesh.   \n",
       "1                                            Ai vrapo.   \n",
       "2                                          Më përqafo.   \n",
       "3                                                E di.   \n",
       "4                                               Humba.   \n",
       "..                                                 ...   \n",
       "445  Disa nga studentat ishin nga Azia dhe te tjere...   \n",
       "446  Kishe të drejtë për shumë gjëra. Megjithatë bë...   \n",
       "447  Si duket, Tomi ishte vonë sepse kishte trafik ...   \n",
       "448  Miqt e mirë janë si yjet. Jo gjithmonë i sheh ...   \n",
       "449  Maria është e shkëlqyeshme. Ajo gatoi një dark...   \n",
       "\n",
       "                                                  cite  \n",
       "0    CC-BY 2.0 (France) Attribution: tatoeba.org #2...  \n",
       "1    CC-BY 2.0 (France) Attribution: tatoeba.org #6...  \n",
       "2    CC-BY 2.0 (France) Attribution: tatoeba.org #1...  \n",
       "3    CC-BY 2.0 (France) Attribution: tatoeba.org #3...  \n",
       "4    CC-BY 2.0 (France) Attribution: tatoeba.org #1...  \n",
       "..                                                 ...  \n",
       "445  CC-BY 2.0 (France) Attribution: tatoeba.org #2...  \n",
       "446  CC-BY 2.0 (France) Attribution: tatoeba.org #3...  \n",
       "447  CC-BY 2.0 (France) Attribution: tatoeba.org #1...  \n",
       "448  CC-BY 2.0 (France) Attribution: tatoeba.org #1...  \n",
       "449  CC-BY 2.0 (France) Attribution: tatoeba.org #6...  \n",
       "\n",
       "[450 rows x 3 columns]"
      ]
     },
     "execution_count": 4,
     "metadata": {},
     "output_type": "execute_result"
    }
   ],
   "source": [
    "df"
   ]
  },
  {
   "cell_type": "code",
   "execution_count": 5,
   "metadata": {},
   "outputs": [],
   "source": [
    "Eng_df=df[[\"English\"]]\n",
    "Ara_df=df[[\"Albanian\"]]"
   ]
  },
  {
   "cell_type": "code",
   "execution_count": 6,
   "metadata": {},
   "outputs": [],
   "source": [
    "table = str.maketrans('', '', string.punctuation)"
   ]
  },
  {
   "cell_type": "code",
   "execution_count": 7,
   "metadata": {},
   "outputs": [],
   "source": [
    "data_En=[]\n",
    "lang_En=[]\n",
    "data_Ara=[]\n",
    "lang_Ara=[]"
   ]
  },
  {
   "cell_type": "code",
   "execution_count": 8,
   "metadata": {},
   "outputs": [],
   "source": [
    "for i,mk in Eng_df.iterrows():\n",
    "    mk=mk[\"English\"]\n",
    "    if len(mk)!=0:\n",
    "        mk=mk.lower()\n",
    "        mk=re.sub(r\"\\d+\",\"\",mk)\n",
    "        mk=mk.translate(table)\n",
    "        data_En.append(mk)\n",
    "        lang_En.append(\"English\")"
   ]
  },
  {
   "cell_type": "code",
   "execution_count": 9,
   "metadata": {},
   "outputs": [],
   "source": [
    "for i,mk in Ara_df.iterrows():\n",
    "    mk=mk[\"Albanian\"]\n",
    "    if len(mk)!=0:\n",
    "        mk=mk.lower()\n",
    "        mk=re.sub(r\"\\d+\",\"\",mk)\n",
    "        mk=mk.translate(table)\n",
    "        data_Ara.append(mk)\n",
    "        lang_Ara.append(\"Albanian\")"
   ]
  },
  {
   "cell_type": "code",
   "execution_count": 10,
   "metadata": {},
   "outputs": [],
   "source": [
    "df=pd.DataFrame({\"Text\":data_En+data_Ara,\n",
    "                   \"Lang\":lang_En+lang_Ara})"
   ]
  },
  {
   "cell_type": "code",
   "execution_count": 11,
   "metadata": {},
   "outputs": [],
   "source": [
    "df=df.sample(frac=1)"
   ]
  },
  {
   "cell_type": "code",
   "execution_count": 12,
   "metadata": {},
   "outputs": [],
   "source": [
    "x,y=df.iloc[:,0],df.iloc[:,1]\n",
    "x_train, x_test, y_train, y_test=train_test_split(x,y,test_size=0.23,random_state=0)"
   ]
  },
  {
   "cell_type": "code",
   "execution_count": 13,
   "metadata": {},
   "outputs": [
    {
     "name": "stdout",
     "output_type": "stream",
     "text": [
      "(693,)\n",
      "(207,)\n",
      "(693,)\n",
      "(207,)\n"
     ]
    }
   ],
   "source": [
    "print(x_train.shape)\n",
    "print(x_test.shape)\n",
    "print(y_train.shape)\n",
    "print(y_test.shape)"
   ]
  },
  {
   "cell_type": "code",
   "execution_count": 50,
   "metadata": {},
   "outputs": [],
   "source": [
    "vector=feature_extraction.text.TfidfVectorizer(ngram_range=(1,3),analyzer=\"char\")"
   ]
  },
  {
   "cell_type": "code",
   "execution_count": 51,
   "metadata": {},
   "outputs": [],
   "source": [
    "pipee=pipeline.Pipeline([\n",
    "    (\"vectorizer\",vector),\n",
    "    (\"clf\",linear_model.LogisticRegression())\n",
    "])"
   ]
  },
  {
   "cell_type": "code",
   "execution_count": 52,
   "metadata": {},
   "outputs": [
    {
     "data": {
      "text/plain": [
       "Pipeline(steps=[('vectorizer',\n",
       "                 TfidfVectorizer(analyzer='char', ngram_range=(1, 3))),\n",
       "                ('clf', LogisticRegression())])"
      ]
     },
     "execution_count": 52,
     "metadata": {},
     "output_type": "execute_result"
    }
   ],
   "source": [
    "pipee.fit(x_train,y_train)"
   ]
  },
  {
   "cell_type": "code",
   "execution_count": 53,
   "metadata": {},
   "outputs": [],
   "source": [
    "ypre=pipee.predict(x_test)\n",
    "acc=(metrics.accuracy_score(y_test,ypre))*100"
   ]
  },
  {
   "cell_type": "code",
   "execution_count": 54,
   "metadata": {},
   "outputs": [
    {
     "name": "stdout",
     "output_type": "stream",
     "text": [
      "98.06763285024155 %\n"
     ]
    }
   ],
   "source": [
    "print(acc,\"%\")"
   ]
  },
  {
   "cell_type": "code",
   "execution_count": 55,
   "metadata": {},
   "outputs": [
    {
     "name": "stdout",
     "output_type": "stream",
     "text": [
      "confusion matrix: \n",
      "  [[106   3]\n",
      " [  1  97]]\n"
     ]
    }
   ],
   "source": [
    "matrix=metrics.confusion_matrix(y_test,ypre)\n",
    "print(\"confusion matrix: \\n \", matrix)"
   ]
  },
  {
   "cell_type": "code",
   "execution_count": 56,
   "metadata": {},
   "outputs": [],
   "source": [
    "import pickle\n",
    "LDf=open('LDmodel.pck1','wb')\n",
    "pickle.dump(pipee,LDf)\n",
    "LDf.close()"
   ]
  },
  {
   "cell_type": "code",
   "execution_count": 57,
   "metadata": {},
   "outputs": [],
   "source": [
    "def language(text):\n",
    "    global LDmodel\n",
    "    LDfile=open('LDmodel.pck1','rb')\n",
    "    LDmodel= pickle.load(LDfile)\n",
    "    LDfile.close()\n",
    "    \n",
    "    text=\" \".join(text.split())\n",
    "    text=text.lower()\n",
    "    text=re.sub(r\"\\d+\",\"\",text)\n",
    "    text=text.translate(table)\n",
    "    prediction=LDmodel.predict([text])\n",
    "    prob=LDmodel.predict_proba([text])\n",
    "    return prediction[0]"
   ]
  },
  {
   "cell_type": "code",
   "execution_count": 60,
   "metadata": {},
   "outputs": [
    {
     "name": "stdout",
     "output_type": "stream",
     "text": [
      "Enter the word:my name is ären\n"
     ]
    },
    {
     "data": {
      "text/plain": [
       "'English'"
      ]
     },
     "execution_count": 60,
     "metadata": {},
     "output_type": "execute_result"
    }
   ],
   "source": [
    "language(input(\"Enter the word:\"))"
   ]
  },
  {
   "cell_type": "code",
   "execution_count": null,
   "metadata": {},
   "outputs": [],
   "source": []
  }
 ],
 "metadata": {
  "kernelspec": {
   "display_name": "Python 3",
   "language": "python",
   "name": "python3"
  },
  "language_info": {
   "codemirror_mode": {
    "name": "ipython",
    "version": 3
   },
   "file_extension": ".py",
   "mimetype": "text/x-python",
   "name": "python",
   "nbconvert_exporter": "python",
   "pygments_lexer": "ipython3",
   "version": "3.8.6"
  }
 },
 "nbformat": 4,
 "nbformat_minor": 4
}
